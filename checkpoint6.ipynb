{
 "cells": [
  {
   "cell_type": "code",
   "execution_count": 20,
   "id": "61f6e58c",
   "metadata": {},
   "outputs": [
    {
     "name": "stdout",
     "output_type": "stream",
     "text": [
      "[1 2 4 5]\n",
      "si x était une liste elle sera :  [1, 2, 4, 5]\n"
     ]
    }
   ],
   "source": [
    "#Question1\n",
    "import numpy as np\n",
    "x=np.array([1,2,4,5])\n",
    "print(x)\n",
    "y=x.tolist()\n",
    "print(\"si x était une liste elle sera : \",y)"
   ]
  },
  {
   "cell_type": "code",
   "execution_count": 31,
   "id": "a7c1a689",
   "metadata": {},
   "outputs": [
    {
     "name": "stdout",
     "output_type": "stream",
     "text": [
      "[[1 2 3]\n",
      " [4 5 6]\n",
      " [7 8 9]]\n",
      "the sum of the diagonal elements of a :  15\n"
     ]
    }
   ],
   "source": [
    "#Question2\n",
    "import numpy as np\n",
    "a=np.array([(1,2,3),(4,5,6),(7,8,9)])\n",
    "print(a)\n",
    "b=a.trace()\n",
    "print(\"the sum of the diagonal elements of a : \",b)"
   ]
  },
  {
   "cell_type": "code",
   "execution_count": 61,
   "id": "37e23840",
   "metadata": {},
   "outputs": [
    {
     "name": "stdout",
     "output_type": "stream",
     "text": [
      "[1 2 3 4 5 6 7 8 9]\n",
      "5\n",
      "6\n",
      "7\n",
      "8\n",
      "9\n"
     ]
    }
   ],
   "source": [
    "#Question3\n",
    "import numpy as np\n",
    "h=np.array([1,2,3,4,5,6,7,8,9])\n",
    "print(h)\n",
    "x=input()\n",
    "x=int(x)\n",
    "for i in h:\n",
    "    if i > x:\n",
    "        print(i)\n"
   ]
  },
  {
   "cell_type": "code",
   "execution_count": 77,
   "id": "6f587c2b",
   "metadata": {},
   "outputs": [
    {
     "name": "stdout",
     "output_type": "stream",
     "text": [
      "[[ 3  7]\n",
      " [11 15]]\n",
      "[ 6  9 16]\n"
     ]
    }
   ],
   "source": [
    "#Question4\n",
    "import numpy as np\n",
    "g=np.array([[1,3],[5,7]])\n",
    "e=np.array([[2,4],[6,8]])\n",
    "a=np.array([1,2,3])\n",
    "b=np.array([5,7,13])\n",
    "print(g+e)\n",
    "print(a+b)"
   ]
  },
  {
   "cell_type": "code",
   "execution_count": 85,
   "id": "26c255cc",
   "metadata": {},
   "outputs": [
    {
     "name": "stdout",
     "output_type": "stream",
     "text": [
      "2.0\n",
      "5.0\n"
     ]
    }
   ],
   "source": [
    "#Question5\n",
    "import numpy as np\n",
    "v=np.array([(1,2,3),(4,5,6)])\n",
    "print(v[0,:].mean())\n",
    "print(v[1,:].mean())"
   ]
  }
 ],
 "metadata": {
  "kernelspec": {
   "display_name": "Python 3",
   "language": "python",
   "name": "python3"
  },
  "language_info": {
   "codemirror_mode": {
    "name": "ipython",
    "version": 3
   },
   "file_extension": ".py",
   "mimetype": "text/x-python",
   "name": "python",
   "nbconvert_exporter": "python",
   "pygments_lexer": "ipython3",
   "version": "3.8.8"
  }
 },
 "nbformat": 4,
 "nbformat_minor": 5
}
