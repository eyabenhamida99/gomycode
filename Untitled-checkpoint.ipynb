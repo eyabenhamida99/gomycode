{
 "cells": [
  {
   "cell_type": "code",
   "execution_count": null,
   "id": "7c204907",
   "metadata": {},
   "outputs": [],
   "source": [
    "first_name=input(\"write your first_name \")\n",
    "last_name=input(\"write your last_name \")"
   ]
  },
  {
   "cell_type": "code",
   "execution_count": null,
   "id": "1feacdcd",
   "metadata": {},
   "outputs": [],
   "source": [
    "n=input(\"entrez un nombre\")\n",
    "print(n)\n",
    "nn=n+n\n",
    "print(nn) \n",
    "nnn=n+n+n\n",
    "print(nnn) \n",
    "n=int(n)\n",
    "nn=int(nn)\n",
    "nnn=int(nnn)\n",
    "n+nn+nnn"
   ]
  },
  {
   "cell_type": "code",
   "execution_count": null,
   "id": "9f5db3d3",
   "metadata": {},
   "outputs": [],
   "source": [
    "number=input(\"entrez un nombre\")\n",
    "number=int(number)\n",
    "if number%2==0 :\n",
    "    print(\"ce nombre est paire\")\n",
    "else:\n",
    "    print(\"ce nombre est impaire\")\n",
    "    "
   ]
  },
  {
   "cell_type": "code",
   "execution_count": null,
   "id": "672a497b",
   "metadata": {},
   "outputs": [],
   "source": [
    "for x in range(2000,3200):\n",
    "    if x%5>0 and x%7==0:\n",
    "        print(x)\n",
    "        "
   ]
  },
  {
   "cell_type": "code",
   "execution_count": null,
   "id": "de15dcd3",
   "metadata": {},
   "outputs": [],
   "source": [
    "x=1\n",
    "x=int(x)\n",
    "y=input(\"put a number \")\n",
    "y=int(y)\n",
    "if y<0:\n",
    "    print(\"the factorial does not exist for negative numbers\")\n",
    "elif y==0:\n",
    "    print(\"the factorial of 0 is 1\")\n",
    "elif y>0:\n",
    "    for i in range(1,y+1):\n",
    "        x=x*i\n",
    "        print(x)\n",
    "    print(\"the factoeial of\",y,\"is\",x)"
   ]
  },
  {
   "cell_type": "code",
   "execution_count": null,
   "id": "42c9f1df",
   "metadata": {},
   "outputs": [],
   "source": [
    "price=input(\"entrer le prix \")\n",
    "price=int(price)\n",
    "if price>=500:\n",
    "    price=(price*50)/100\n",
    "    print(\"le nouveau prix est \",price)\n",
    "elif price<500 and price>=200:\n",
    "    price=(price*30)/100\n",
    "    print(\"le nouveau prix est \",price)\n",
    "elif price<200:\n",
    "    price=(price*10)/100\n",
    "    print(\"le nouveau prix est \",price)"
   ]
  },
  {
   "cell_type": "code",
   "execution_count": null,
   "id": "d98a50e7",
   "metadata": {},
   "outputs": [],
   "source": [
    "string=input(\"entrer un string \")\n",
    "for i in range(0,len(string),2):\n",
    "    print(string[i])\n",
    "\n"
   ]
  }
 ],
 "metadata": {
  "kernelspec": {
   "display_name": "Python 3",
   "language": "python",
   "name": "python3"
  },
  "language_info": {
   "codemirror_mode": {
    "name": "ipython",
    "version": 3
   },
   "file_extension": ".py",
   "mimetype": "text/x-python",
   "name": "python",
   "nbconvert_exporter": "python",
   "pygments_lexer": "ipython3",
   "version": "3.8.8"
  }
 },
 "nbformat": 4,
 "nbformat_minor": 5
}
