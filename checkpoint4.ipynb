{
 "cells": [
  {
   "cell_type": "code",
   "execution_count": 5,
   "id": "2106694e",
   "metadata": {},
   "outputs": [
    {
     "data": {
      "text/plain": [
       "8"
      ]
     },
     "execution_count": 5,
     "metadata": {},
     "output_type": "execute_result"
    }
   ],
   "source": [
    "#question1\n",
    "def maximum(a,b,c):\n",
    "    if c>b and c>a:\n",
    "        return(c)\n",
    "    elif b>a and b>c:\n",
    "        return(b)\n",
    "    else:\n",
    "        return(a)\n",
    "max=maximum(5,8,-1)\n",
    "max"
   ]
  },
  {
   "cell_type": "code",
   "execution_count": 43,
   "id": "414eebca",
   "metadata": {},
   "outputs": [
    {
     "name": "stdout",
     "output_type": "stream",
     "text": [
      "1 11\n"
     ]
    }
   ],
   "source": [
    "#question2\n",
    "def sum_sub(x,y):\n",
    "    print(x-y ,x+y)\n",
    "sum_sub(6,5)"
   ]
  },
  {
   "cell_type": "code",
   "execution_count": 110,
   "id": "5c16ce4a",
   "metadata": {},
   "outputs": [
    {
     "name": "stdout",
     "output_type": "stream",
     "text": [
      "10\n",
      "0\n",
      "15\n",
      "6\n"
     ]
    }
   ],
   "source": [
    "#question3\n",
    "liste=[0,1,2,3,4,5]\n",
    "def somme(x,y,z,a,b):\n",
    "    print(x+y+z+a+b)\n",
    "somme(liste[0],liste[1],liste[2],liste[3],liste[4])\n",
    "def multiple(x,y,z,a,b):\n",
    "    print(x*y*z*a*b)\n",
    "multiple(liste[0],liste[1],liste[2],liste[3],liste[4])\n",
    "def multiple(x,y,z):\n",
    "    print(x*y*z)\n",
    "multiple(liste[1],liste[3],liste[5])\n",
    "def somme(x,y,z):\n",
    "    print(x+y+z)\n",
    "somme(liste[0],liste[2],liste[4])"
   ]
  },
  {
   "cell_type": "code",
   "execution_count": 146,
   "id": "6a8ffb91",
   "metadata": {},
   "outputs": [
    {
     "name": "stdout",
     "output_type": "stream",
     "text": [
      "Enter a hyphen separated sequence of words:green-red-yellow-black-white\n",
      "['green', 'red', 'yellow', 'black', 'white']\n",
      "['black', 'green', 'red', 'white', 'yellow']\n"
     ]
    }
   ],
   "source": [
    "#question4\n",
    "words=input(\"Enter a hyphen separated sequence of words:\").split(\"-\")\n",
    "print(words)\n",
    "words.sort(reverse=False)\n",
    "print(words)"
   ]
  },
  {
   "cell_type": "code",
   "execution_count": 183,
   "id": "eba7128e",
   "metadata": {},
   "outputs": [
    {
     "name": "stdout",
     "output_type": "stream",
     "text": [
      "5\n",
      "16.666666666666668\n"
     ]
    },
    {
     "data": {
      "text/plain": [
       "4.08248290463863"
      ]
     },
     "execution_count": 183,
     "metadata": {},
     "output_type": "execute_result"
    }
   ],
   "source": [
    "#question5\n",
    "from math import*\n",
    "def racine(x):\n",
    "    if x>0:\n",
    "        return(x**0.5)\n",
    "    else:\n",
    "        print(\"impossible\")\n",
    "c=50\n",
    "h=30\n",
    "d=int(input())\n",
    "print((2 * c * d)/h)\n",
    "racine((2 * c * d)/h)"
   ]
  }
 ],
 "metadata": {
  "kernelspec": {
   "display_name": "Python 3",
   "language": "python",
   "name": "python3"
  },
  "language_info": {
   "codemirror_mode": {
    "name": "ipython",
    "version": 3
   },
   "file_extension": ".py",
   "mimetype": "text/x-python",
   "name": "python",
   "nbconvert_exporter": "python",
   "pygments_lexer": "ipython3",
   "version": "3.8.8"
  }
 },
 "nbformat": 4,
 "nbformat_minor": 5
}
