{
 "cells": [
  {
   "cell_type": "code",
   "execution_count": 9,
   "id": "f9f36d9f",
   "metadata": {},
   "outputs": [],
   "source": [
    "#Question1\n",
    "class point3D:\n",
    "    def __init__(self,x,y,z):\n",
    "        self.x=x\n",
    "        self.y=y\n",
    "        self.z=z\n",
    "    def fct1(self):\n",
    "        print(self.x,self.y,self.z)\n",
    "my_point=point3D(1,2,3)\n",
    "print(my_point.fct1())"
   ]
  },
  {
   "cell_type": "code",
   "execution_count": 11,
   "id": "db384e17",
   "metadata": {},
   "outputs": [
    {
     "name": "stdout",
     "output_type": "stream",
     "text": [
      "14\n",
      "12\n"
     ]
    }
   ],
   "source": [
    "#Question2\n",
    "class Rectangle:\n",
    "    def __init__(self,length,width):\n",
    "        self.length=length\n",
    "        self.width=width\n",
    "    def perimeter (self):\n",
    "        return(2*(self.length+self.width))\n",
    "    def area (self):\n",
    "        return(self.length*self.width)\n",
    "my_rectangle =Rectangle(4,3)\n",
    "print(my_rectangle.perimeter())\n",
    "print(my_rectangle.area()) "
   ]
  },
  {
   "cell_type": "code",
   "execution_count": 27,
   "id": "73fd6d70",
   "metadata": {},
   "outputs": [
    {
     "ename": "TypeError",
     "evalue": "isInside() missing 1 required positional argument: 'y'",
     "output_type": "error",
     "traceback": [
      "\u001b[1;31m---------------------------------------------------------------------------\u001b[0m",
      "\u001b[1;31mTypeError\u001b[0m                                 Traceback (most recent call last)",
      "\u001b[1;32m<ipython-input-27-1d9d04e72702>\u001b[0m in \u001b[0;36m<module>\u001b[1;34m\u001b[0m\n\u001b[0;32m     15\u001b[0m             \u001b[0mprint\u001b[0m\u001b[1;33m(\u001b[0m\u001b[1;34m\"your point doesn't belong to the circle\"\u001b[0m\u001b[1;33m)\u001b[0m\u001b[1;33m\u001b[0m\u001b[1;33m\u001b[0m\u001b[0m\n\u001b[0;32m     16\u001b[0m \u001b[0mcircle1\u001b[0m\u001b[1;33m=\u001b[0m\u001b[0mcircle\u001b[0m\u001b[1;33m(\u001b[0m\u001b[1;34m\"o\"\u001b[0m\u001b[1;33m,\u001b[0m\u001b[1;36m5\u001b[0m\u001b[1;33m)\u001b[0m\u001b[1;33m\u001b[0m\u001b[1;33m\u001b[0m\u001b[0m\n\u001b[1;32m---> 17\u001b[1;33m \u001b[0mcircle\u001b[0m\u001b[1;33m.\u001b[0m\u001b[0misInside\u001b[0m\u001b[1;33m(\u001b[0m\u001b[1;36m5\u001b[0m\u001b[1;33m,\u001b[0m\u001b[1;36m4\u001b[0m\u001b[1;33m)\u001b[0m\u001b[1;33m\u001b[0m\u001b[1;33m\u001b[0m\u001b[0m\n\u001b[0m",
      "\u001b[1;31mTypeError\u001b[0m: isInside() missing 1 required positional argument: 'y'"
     ]
    }
   ],
   "source": [
    "#Question3\n",
    "import math\n",
    "class circle:\n",
    "    def __init__(self,o,r):\n",
    "        self.center=o\n",
    "        self.radius=r\n",
    "    def perimeter (self):\n",
    "        return(2*self.radius*math.pi)\n",
    "    def area (self):\n",
    "        return((2**self.radius)*math.pi)\n",
    "    def isInside(self,x,y):\n",
    "        if x==self.radius and y==self.radius:\n",
    "            print(\"your point belongs to the circle\")\n",
    "        else:\n",
    "            print(\"your point doesn't belong to the circle\")\n",
    "circle1=circle(\"o\",5)\n",
    "circle.isInside(5,4)"
   ]
  },
  {
   "cell_type": "code",
   "execution_count": 21,
   "id": "1d83aecf",
   "metadata": {},
   "outputs": [
    {
     "name": "stdout",
     "output_type": "stream",
     "text": [
      "enter the amount of the deposit 0\n",
      "enter the amount of the withdraw 10000\n",
      "Insufficient balance \n"
     ]
    }
   ],
   "source": [
    "#Question4\n",
    "class Bank:\n",
    "    def __init__(self,b):\n",
    "        self.balance=b\n",
    "    def deposit(self):\n",
    "        amount=float(input(\"enter the amount of the deposit \"))\n",
    "        self.balance=self.balance+amount\n",
    "    def withdraw(self):\n",
    "        amount=float(input(\"enter the amount of the withdraw \"))\n",
    "        if self.balance>=amount:\n",
    "            self.balance=self.balance-amount\n",
    "            print(\"the remaining amount is \", self.balance)\n",
    "        else:\n",
    "            print(\"Insufficient balance \")\n",
    "exp=Bank(5800)\n",
    "exp.deposit()\n",
    "exp.withdraw()"
   ]
  },
  {
   "cell_type": "code",
   "execution_count": null,
   "id": "016ad5cb",
   "metadata": {},
   "outputs": [],
   "source": []
  },
  {
   "cell_type": "code",
   "execution_count": null,
   "id": "fe349427",
   "metadata": {},
   "outputs": [],
   "source": []
  }
 ],
 "metadata": {
  "kernelspec": {
   "display_name": "Python 3",
   "language": "python",
   "name": "python3"
  },
  "language_info": {
   "codemirror_mode": {
    "name": "ipython",
    "version": 3
   },
   "file_extension": ".py",
   "mimetype": "text/x-python",
   "name": "python",
   "nbconvert_exporter": "python",
   "pygments_lexer": "ipython3",
   "version": "3.8.8"
  }
 },
 "nbformat": 4,
 "nbformat_minor": 5
}
