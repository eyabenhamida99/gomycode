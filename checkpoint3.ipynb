{
 "cells": [
  {
   "cell_type": "code",
   "execution_count": 20,
   "id": "349398f6",
   "metadata": {},
   "outputs": [
    {
     "name": "stdout",
     "output_type": "stream",
     "text": [
      "1\n",
      "2\n",
      "5\n",
      "[1, 2, 5]\n"
     ]
    },
    {
     "data": {
      "text/plain": [
       "10"
      ]
     },
     "execution_count": 20,
     "metadata": {},
     "output_type": "execute_result"
    }
   ],
   "source": [
    "a=input()\n",
    "b=input()\n",
    "c=input()\n",
    "a=int(a)\n",
    "b=int(b)\n",
    "c=int(c)\n",
    "my_list=[a,b,c]\n",
    "print(my_list)\n",
    "a*b*c"
   ]
  },
  {
   "cell_type": "code",
   "execution_count": 43,
   "id": "e6112121",
   "metadata": {},
   "outputs": [
    {
     "name": "stdout",
     "output_type": "stream",
     "text": [
      "liste:  [(6, 2), (7, 5), (2, 3)]\n",
      "liste par ordre croissant:  [(2, 3), (6, 2), (7, 5)]\n",
      "liste par ordre décroissant:  [(7, 5), (6, 2), (2, 3)]\n"
     ]
    }
   ],
   "source": [
    "tuple1=(6,2)\n",
    "tuple2=(7,5)\n",
    "tuple3=(2,3)\n",
    "my_list=[tuple1,tuple2,tuple3]\n",
    "print(\"list: \",my_list)\n",
    "my_list.sort(reverse=False)\n",
    "print(\"list par ordre croissant: \", my_list)\n",
    "my_list.sort(reverse=True)\n",
    "print(\"list par ordre décroissant: \", my_list)\n"
   ]
  },
  {
   "cell_type": "code",
   "execution_count": 8,
   "id": "efd0cb74",
   "metadata": {},
   "outputs": [
    {
     "name": "stdout",
     "output_type": "stream",
     "text": [
      "{'a': 7, 'b': 81, 'c': 41}\n"
     ]
    }
   ],
   "source": [
    "d1={'a':5,'b':6,'c':1}\n",
    "d2={'a':2,'b':75,'c':40}\n",
    "d3={}\n",
    "for i,j in d1.items():\n",
    "    for x,y in d2.items():\n",
    "        if i == x:\n",
    "            d3[i]=(j+y)\n",
    "print(d3)\n",
    "\n"
   ]
  },
  {
   "cell_type": "code",
   "execution_count": 30,
   "id": "bba22381",
   "metadata": {},
   "outputs": [
    {
     "name": "stdout",
     "output_type": "stream",
     "text": [
      "put a number5\n",
      "d= {1: 1, 2: 4, 3: 9, 4: 16, 5: 25}\n"
     ]
    }
   ],
   "source": [
    "n=input(\"put a number\")\n",
    "n=int(n)\n",
    "d={}\n",
    "for c in range(1,n+1):\n",
    "    c=int(c)\n",
    "    if c<=n and c>=1:\n",
    "        c=int(c)\n",
    "        d[c]=(c*c)\n",
    "print(\"d=\",d)"
   ]
  },
  {
   "cell_type": "code",
   "execution_count": 35,
   "id": "5735b94b",
   "metadata": {},
   "outputs": [
    {
     "name": "stdout",
     "output_type": "stream",
     "text": [
      "list:  [('item1', '12.20'), ('item2', '15.10'), ('item3', '24.5')]\n",
      "list par ordre croissant:  [('item1', '12.20'), ('item2', '15.10'), ('item3', '24.5')]\n",
      "list par ordre décroissant:  [('item3', '24.5'), ('item2', '15.10'), ('item1', '12.20')]\n"
     ]
    }
   ],
   "source": [
    "list= [('item1', '12.20'), ('item2', '15.10'), ('item3', '24.5')]\n",
    "print(\"list: \",list)\n",
    "list.sort(reverse=False)\n",
    "print(\"list par ordre croissant: \", list)\n",
    "list.sort(reverse=True)\n",
    "print(\"list par ordre décroissant: \", list)"
   ]
  },
  {
   "cell_type": "code",
   "execution_count": null,
   "id": "6649fdd4",
   "metadata": {},
   "outputs": [],
   "source": []
  }
 ],
 "metadata": {
  "kernelspec": {
   "display_name": "Python 3",
   "language": "python",
   "name": "python3"
  },
  "language_info": {
   "codemirror_mode": {
    "name": "ipython",
    "version": 3
   },
   "file_extension": ".py",
   "mimetype": "text/x-python",
   "name": "python",
   "nbconvert_exporter": "python",
   "pygments_lexer": "ipython3",
   "version": "3.8.8"
  }
 },
 "nbformat": 4,
 "nbformat_minor": 5
}
